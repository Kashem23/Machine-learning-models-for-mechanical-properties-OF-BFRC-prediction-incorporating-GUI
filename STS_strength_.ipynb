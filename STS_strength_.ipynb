{
  "cells": [
    {
      "cell_type": "code",
      "execution_count": null,
      "metadata": {
        "id": "b3q1KeYSvB8D"
      },
      "outputs": [],
      "source": [
        "%matplotlib inline\n",
        "import pandas as pd\n",
        "import numpy as np\n",
        "import matplotlib.pyplot as plt\n",
        "import matplotlib\n",
        "from sklearn.model_selection import train_test_split\n",
        "import seaborn as sns\n",
        "\n",
        "from sklearn.model_selection import cross_val_score\n",
        "from sklearn.model_selection import KFold\n",
        "\n",
        "from sklearn.metrics import r2_score\n",
        "from sklearn.metrics import mean_squared_error\n",
        "from sklearn.metrics import mean_absolute_error\n",
        "\n",
        "sns.set(style=\"ticks\")\n",
        "#sns.set(style=\"whitegrid\", color_codes=True)"
      ]
    },
    {
      "cell_type": "code",
      "execution_count": null,
      "metadata": {
        "id": "EMMCn483vB8G"
      },
      "outputs": [],
      "source": [
        "data = pd.read_excel('BFRC_STS.xlsx')\n"
      ]
    },
    {
      "cell_type": "code",
      "execution_count": null,
      "metadata": {
        "scrolled": true,
        "id": "0PNC84revB8G",
        "outputId": "57d0bfec-21f8-4940-e084-de93410b19fc"
      },
      "outputs": [
        {
          "name": "stdout",
          "output_type": "stream",
          "text": [
            "(267, 11)\n"
          ]
        }
      ],
      "source": [
        "print(data.shape)"
      ]
    },
    {
      "cell_type": "code",
      "execution_count": null,
      "metadata": {
        "id": "jrc2PajovB8H",
        "outputId": "d7eb5ef9-66ec-45d3-fdd8-4ec3ce67bbf9"
      },
      "outputs": [
        {
          "data": {
            "text/html": [
              "<div>\n",
              "<style scoped>\n",
              "    .dataframe tbody tr th:only-of-type {\n",
              "        vertical-align: middle;\n",
              "    }\n",
              "\n",
              "    .dataframe tbody tr th {\n",
              "        vertical-align: top;\n",
              "    }\n",
              "\n",
              "    .dataframe thead th {\n",
              "        text-align: right;\n",
              "    }\n",
              "</style>\n",
              "<table border=\"1\" class=\"dataframe\">\n",
              "  <thead>\n",
              "    <tr style=\"text-align: right;\">\n",
              "      <th></th>\n",
              "      <th>Cement (kg/m³)</th>\n",
              "      <th>Fly ash (kg/m³)</th>\n",
              "      <th>Silica fume (kg/m³)</th>\n",
              "      <th>Coarse aggregate (kg/m³)</th>\n",
              "      <th>Fine aggregate (kg/m³)</th>\n",
              "      <th>Water (kg/m³)</th>\n",
              "      <th>Water reducing agent (kg/m³)</th>\n",
              "      <th>Fiber diameter (mm)</th>\n",
              "      <th>Fiber length (mm)</th>\n",
              "      <th>Fiber content (%)</th>\n",
              "      <th>Splitting tensile strength (Mpa)</th>\n",
              "    </tr>\n",
              "  </thead>\n",
              "  <tbody>\n",
              "    <tr>\n",
              "      <th>count</th>\n",
              "      <td>267.000000</td>\n",
              "      <td>267.000000</td>\n",
              "      <td>267.000000</td>\n",
              "      <td>267.000000</td>\n",
              "      <td>267.000000</td>\n",
              "      <td>267.000000</td>\n",
              "      <td>267.000000</td>\n",
              "      <td>267.000000</td>\n",
              "      <td>267.000000</td>\n",
              "      <td>267.000000</td>\n",
              "      <td>267.000000</td>\n",
              "    </tr>\n",
              "    <tr>\n",
              "      <th>mean</th>\n",
              "      <td>402.544719</td>\n",
              "      <td>45.717453</td>\n",
              "      <td>16.429213</td>\n",
              "      <td>1079.504644</td>\n",
              "      <td>697.829438</td>\n",
              "      <td>177.606742</td>\n",
              "      <td>3.337865</td>\n",
              "      <td>0.015930</td>\n",
              "      <td>16.749064</td>\n",
              "      <td>0.126592</td>\n",
              "      <td>4.348101</td>\n",
              "    </tr>\n",
              "    <tr>\n",
              "      <th>std</th>\n",
              "      <td>73.920000</td>\n",
              "      <td>56.470326</td>\n",
              "      <td>31.284398</td>\n",
              "      <td>161.986898</td>\n",
              "      <td>88.452215</td>\n",
              "      <td>29.875916</td>\n",
              "      <td>2.242625</td>\n",
              "      <td>0.002699</td>\n",
              "      <td>6.376704</td>\n",
              "      <td>0.106337</td>\n",
              "      <td>1.739823</td>\n",
              "    </tr>\n",
              "    <tr>\n",
              "      <th>min</th>\n",
              "      <td>217.000000</td>\n",
              "      <td>0.000000</td>\n",
              "      <td>0.000000</td>\n",
              "      <td>512.000000</td>\n",
              "      <td>507.000000</td>\n",
              "      <td>125.000000</td>\n",
              "      <td>0.000000</td>\n",
              "      <td>0.013000</td>\n",
              "      <td>6.000000</td>\n",
              "      <td>0.000000</td>\n",
              "      <td>2.200000</td>\n",
              "    </tr>\n",
              "    <tr>\n",
              "      <th>25%</th>\n",
              "      <td>353.500000</td>\n",
              "      <td>0.000000</td>\n",
              "      <td>0.000000</td>\n",
              "      <td>998.000000</td>\n",
              "      <td>633.000000</td>\n",
              "      <td>160.000000</td>\n",
              "      <td>2.400000</td>\n",
              "      <td>0.015000</td>\n",
              "      <td>12.000000</td>\n",
              "      <td>0.050000</td>\n",
              "      <td>3.182500</td>\n",
              "    </tr>\n",
              "    <tr>\n",
              "      <th>50%</th>\n",
              "      <td>402.000000</td>\n",
              "      <td>0.000000</td>\n",
              "      <td>0.000000</td>\n",
              "      <td>1125.000000</td>\n",
              "      <td>688.000000</td>\n",
              "      <td>179.000000</td>\n",
              "      <td>4.000000</td>\n",
              "      <td>0.015000</td>\n",
              "      <td>18.000000</td>\n",
              "      <td>0.100000</td>\n",
              "      <td>3.724000</td>\n",
              "    </tr>\n",
              "    <tr>\n",
              "      <th>75%</th>\n",
              "      <td>450.000000</td>\n",
              "      <td>86.000000</td>\n",
              "      <td>20.000000</td>\n",
              "      <td>1180.000000</td>\n",
              "      <td>781.000000</td>\n",
              "      <td>188.000000</td>\n",
              "      <td>4.810000</td>\n",
              "      <td>0.015500</td>\n",
              "      <td>20.000000</td>\n",
              "      <td>0.200000</td>\n",
              "      <td>4.885000</td>\n",
              "    </tr>\n",
              "    <tr>\n",
              "      <th>max</th>\n",
              "      <td>613.330000</td>\n",
              "      <td>168.000000</td>\n",
              "      <td>126.000000</td>\n",
              "      <td>1540.000000</td>\n",
              "      <td>875.000000</td>\n",
              "      <td>301.000000</td>\n",
              "      <td>8.360000</td>\n",
              "      <td>0.030000</td>\n",
              "      <td>30.000000</td>\n",
              "      <td>0.500000</td>\n",
              "      <td>9.800000</td>\n",
              "    </tr>\n",
              "  </tbody>\n",
              "</table>\n",
              "</div>"
            ],
            "text/plain": [
              "       Cement (kg/m³)  Fly ash (kg/m³)  Silica fume (kg/m³)  \\\n",
              "count      267.000000       267.000000           267.000000   \n",
              "mean       402.544719        45.717453            16.429213   \n",
              "std         73.920000        56.470326            31.284398   \n",
              "min        217.000000         0.000000             0.000000   \n",
              "25%        353.500000         0.000000             0.000000   \n",
              "50%        402.000000         0.000000             0.000000   \n",
              "75%        450.000000        86.000000            20.000000   \n",
              "max        613.330000       168.000000           126.000000   \n",
              "\n",
              "       Coarse aggregate (kg/m³)  Fine aggregate (kg/m³)  Water (kg/m³)  \\\n",
              "count                267.000000              267.000000     267.000000   \n",
              "mean                1079.504644              697.829438     177.606742   \n",
              "std                  161.986898               88.452215      29.875916   \n",
              "min                  512.000000              507.000000     125.000000   \n",
              "25%                  998.000000              633.000000     160.000000   \n",
              "50%                 1125.000000              688.000000     179.000000   \n",
              "75%                 1180.000000              781.000000     188.000000   \n",
              "max                 1540.000000              875.000000     301.000000   \n",
              "\n",
              "       Water reducing agent (kg/m³)  Fiber diameter (mm)  Fiber length (mm)  \\\n",
              "count                    267.000000           267.000000         267.000000   \n",
              "mean                       3.337865             0.015930          16.749064   \n",
              "std                        2.242625             0.002699           6.376704   \n",
              "min                        0.000000             0.013000           6.000000   \n",
              "25%                        2.400000             0.015000          12.000000   \n",
              "50%                        4.000000             0.015000          18.000000   \n",
              "75%                        4.810000             0.015500          20.000000   \n",
              "max                        8.360000             0.030000          30.000000   \n",
              "\n",
              "       Fiber content (%)  Splitting tensile strength (Mpa)  \n",
              "count         267.000000                        267.000000  \n",
              "mean            0.126592                          4.348101  \n",
              "std             0.106337                          1.739823  \n",
              "min             0.000000                          2.200000  \n",
              "25%             0.050000                          3.182500  \n",
              "50%             0.100000                          3.724000  \n",
              "75%             0.200000                          4.885000  \n",
              "max             0.500000                          9.800000  "
            ]
          },
          "execution_count": 14,
          "metadata": {},
          "output_type": "execute_result"
        }
      ],
      "source": [
        "data.describe()"
      ]
    },
    {
      "cell_type": "code",
      "execution_count": null,
      "metadata": {
        "id": "8Rw3J33RvB8I",
        "outputId": "a9503094-a7d5-409e-9093-e230791b7724"
      },
      "outputs": [
        {
          "name": "stdout",
          "output_type": "stream",
          "text": [
            "(267, 10)\n",
            "(267,)\n"
          ]
        }
      ],
      "source": [
        "# split into input (X) and output (Y) variables\n",
        "X = data.drop(['Splitting tensile strength (Mpa)'], axis =1)\n",
        "Y = data['Splitting tensile strength (Mpa)']\n",
        "\n",
        "print(X.shape)\n",
        "print(Y.shape)"
      ]
    },
    {
      "cell_type": "code",
      "execution_count": null,
      "metadata": {
        "id": "6ZW9dbpOvB8J"
      },
      "outputs": [],
      "source": [
        "# randomly spliting the database into training-testing sets as 70%-30%\n",
        "from sklearn.model_selection import train_test_split\n",
        "\n",
        "X_train, X_test, y_train, y_test = train_test_split(X, Y, test_size=0.30, random_state=42)\n",
        "\n",
        "# normalizing the data sets\n",
        "from sklearn.preprocessing import StandardScaler\n",
        "\n",
        "scaler = StandardScaler()\n",
        "X_train = scaler.fit_transform(X_train)\n",
        "X_test = scaler.transform(X_test)"
      ]
    },
    {
      "cell_type": "code",
      "execution_count": null,
      "metadata": {
        "id": "X8xhpNkZvB8J",
        "outputId": "5c1b90b9-343d-4dd9-a617-309d08823a6a"
      },
      "outputs": [
        {
          "name": "stdout",
          "output_type": "stream",
          "text": [
            "X_train shape: (186, 10)\n",
            "y_train shape: (186,)\n",
            "X_test shape: (81, 10)\n",
            "y_test shape: (81,)\n"
          ]
        }
      ],
      "source": [
        "# Print the shapes of the train and test sets\n",
        "print(\"X_train shape:\", X_train.shape)\n",
        "print(\"y_train shape:\", y_train.shape)\n",
        "print(\"X_test shape:\", X_test.shape)\n",
        "print(\"y_test shape:\", y_test.shape)"
      ]
    },
    {
      "cell_type": "markdown",
      "metadata": {
        "id": "uaLCO1I4vB8J"
      },
      "source": [
        "Different machine learning (ML) models are adopted below to predict the shear strength of concrete-filled steel tubes (CFSTs). The performances of these ML models are evaluated and compared with each other."
      ]
    },
    {
      "cell_type": "markdown",
      "metadata": {
        "id": "QTT6glHzvB8N"
      },
      "source": [
        "# Support Vector Regressor"
      ]
    },
    {
      "cell_type": "code",
      "execution_count": null,
      "metadata": {
        "id": "jV75IVUyvB8O",
        "outputId": "515e83d2-5cab-4e45-9193-880303fd2d70"
      },
      "outputs": [
        {
          "name": "stdout",
          "output_type": "stream",
          "text": [
            "{'C': 100, 'degree': 2, 'gamma': 'scale', 'kernel': 'rbf'}\n",
            "0.9932252055373431\n",
            "0.9736737954107147\n"
          ]
        }
      ],
      "source": [
        "# Hyperparameter Optimization with Grid Search\n",
        "from sklearn.model_selection import GridSearchCV\n",
        "from sklearn.svm import SVR\n",
        "svr = SVR()\n",
        "\n",
        "kernel = ['linear', 'poly', 'rbf', 'sigmoid']\n",
        "degree = [2, 3, 4, 5]\n",
        "gamma = ['scale', 'auto']\n",
        "C = [0.1, 1, 10, 100,300,500]\n",
        "\n",
        "\n",
        "params = {'kernel' : kernel, 'degree' : degree, 'gamma' : gamma, 'C' : C}\n",
        "grid_svr = GridSearchCV(estimator = svr,\n",
        "                        param_grid = params,\n",
        "                        scoring = 'r2',\n",
        "                        cv = 5,\n",
        "                        n_jobs = -1)\n",
        "grid_svr.fit(X_train, y_train)\n",
        "\n",
        "# extract best estimator\n",
        "print(grid_svr.best_params_)\n",
        "\n",
        "# to test the best fit\n",
        "print(grid_svr.score(X_train, y_train))\n",
        "print(grid_svr.score(X_test, y_test))"
      ]
    },
    {
      "cell_type": "code",
      "execution_count": null,
      "metadata": {
        "id": "iSJ-3QTkvB8O",
        "outputId": "69aa3ef3-9c5c-4ec3-c7e2-180a185498cb"
      },
      "outputs": [
        {
          "name": "stdout",
          "output_type": "stream",
          "text": [
            "Training R2: 0.9932252055373431 RMSE: 0.14364738818627612 MAE: 0.10196643417866515\n",
            "Testing R2: 0.9736737954107147 RMSE: 0.27736574358160093 MAE: 0.20812459833683836\n"
          ]
        }
      ],
      "source": [
        "from sklearn.svm import SVR\n",
        "\n",
        "svr = SVR(C = 100, kernel = 'rbf')\n",
        "\n",
        "# training the model\n",
        "svr.fit(X_train, y_train)\n",
        "\n",
        "# predicting the results\n",
        "Y_train_svr = svr.predict(X_train)\n",
        "Y_test_svr = svr.predict(X_test)\n",
        "\n",
        "print(\"Training R2:\", r2_score(y_train, Y_train_svr), \"RMSE:\", np.sqrt(mean_squared_error(y_train, Y_train_svr)),\n",
        "      \"MAE:\", mean_absolute_error(y_train, Y_train_svr))\n",
        "print(\"Testing R2:\", r2_score(y_test, Y_test_svr), \"RMSE:\", np.sqrt(mean_squared_error(y_test, Y_test_svr)),\n",
        "      \"MAE:\", mean_absolute_error(y_test, Y_test_svr))"
      ]
    },
    {
      "cell_type": "code",
      "execution_count": null,
      "metadata": {
        "id": "erYuT8P_vB8O"
      },
      "outputs": [],
      "source": [
        "## convert your array into a dataframe\n",
        "df_pred = pd.DataFrame (Y_test_svr)\n",
        "df_pred.to_excel('Pred_svr_test.xlsx')\n",
        "\n",
        "\n",
        "## convert your array into a dataframe\n",
        "df_pred = pd.DataFrame (Y_train_svr)\n",
        "df_pred.to_excel('Pred_svr_train.xlsx')\n",
        "\n"
      ]
    },
    {
      "cell_type": "code",
      "execution_count": null,
      "metadata": {
        "id": "9rl0FUvGvB8P",
        "outputId": "d99f86d7-9c2a-417b-f2e5-44c208041588"
      },
      "outputs": [
        {
          "name": "stdout",
          "output_type": "stream",
          "text": [
            "Mean Absolute Percentage Error (MAPE) - Training: 2.5493%\n",
            "Mean Absolute Percentage Error (MAPE) - Testing: 5.2953%\n"
          ]
        }
      ],
      "source": [
        "# Calculate Mean Absolute Percentage Error (MAPE) for both training and testing sets\n",
        "mape_train = np.mean(np.abs((y_train - Y_train_svr) / y_train)) * 100\n",
        "mape_test = np.mean(np.abs((y_test - Y_test_svr) / y_test)) * 100\n",
        "print(f\"Mean Absolute Percentage Error (MAPE) - Training: {mape_train:.4f}%\")\n",
        "print(f\"Mean Absolute Percentage Error (MAPE) - Testing: {mape_test:.4f}%\")"
      ]
    },
    {
      "cell_type": "code",
      "execution_count": null,
      "metadata": {
        "id": "Q0lCNJbXvB8W"
      },
      "outputs": [],
      "source": [
        "import joblib"
      ]
    },
    {
      "cell_type": "code",
      "execution_count": null,
      "metadata": {
        "id": "2xEYxmjkvB8W",
        "outputId": "51153dca-66bd-4895-bff8-787c31b93b40"
      },
      "outputs": [
        {
          "name": "stdout",
          "output_type": "stream",
          "text": [
            "Model and scaler saved successfully.\n"
          ]
        }
      ],
      "source": [
        "# Step 5: Save the model and scaler\n",
        "joblib.dump(svr, 'svr.joblib')  # Save the trained XGBoost model\n",
        "joblib.dump(scaler, 'scaler.joblib')  # Save the scaler\n",
        "\n",
        "print(\"Model and scaler saved successfully.\")"
      ]
    },
    {
      "cell_type": "code",
      "execution_count": null,
      "metadata": {
        "id": "JkQanWPQvB8g",
        "outputId": "cdeee2a0-a095-454a-b886-486b6992e081"
      },
      "outputs": [
        {
          "name": "stderr",
          "output_type": "stream",
          "text": [
            "ntree_limit is deprecated, use `iteration_range` or model slicing instead.\n",
            "X does not have valid feature names, but StandardScaler was fitted with feature names\n"
          ]
        }
      ],
      "source": [
        "import tkinter as tk\n",
        "from tkinter import messagebox\n",
        "import pandas as pd\n",
        "import numpy as np\n",
        "import shap\n",
        "import joblib\n",
        "from matplotlib.backends.backend_tkagg import FigureCanvasTkAgg\n",
        "import matplotlib.pyplot as plt\n",
        "from xgboost import XGBRegressor\n",
        "from sklearn.preprocessing import StandardScaler\n",
        "\n",
        "# Matplotlib style\n",
        "plt.style.use('seaborn-ticks')\n",
        "plt.rcParams[\"font.family\"] = \"Times New Roman\"\n",
        "\n",
        "# Feature names (customize as needed)\n",
        "featureName = [\n",
        "    r'$\\mathbf{Cement\\ (kg/m^3)}$',\n",
        "    r'$\\mathbf{Fly\\ ash\\ (kg/m^3)}$',\n",
        "    r'$\\mathbf{Silica\\ fume\\ (kg/m^3)}$',\n",
        "    r'$\\mathbf{Coarse\\ aggregate\\ (kg/m^3)}$',\n",
        "    r'$\\mathbf{Fine\\ aggregate\\ (kg/m^3)}$',\n",
        "    r'$\\mathbf{Water\\ (kg/m^3)}$',\n",
        "    r'$\\mathbf{Water\\ reducing\\ agent\\ (kg/m^3)}$',\n",
        "    r'$\\mathbf{Fiber\\ diameter\\ (mm)}$',\n",
        "    r'$\\mathbf{Fiber\\ length\\ (mm)}$',\n",
        "    r'$\\mathbf{Fiber\\ content\\ (\\%)}$'\n",
        "]\n",
        "\n",
        "# Initialize the Tkinter window\n",
        "root = tk.Tk()\n",
        "root.title(\"GUI\")\n",
        "root.geometry(\"950x700\")\n",
        "\n",
        "# Create canvas for displaying the SHAP plot\n",
        "frame_canvas = tk.Canvas(root)\n",
        "frame_canvas.pack(fill=tk.BOTH, expand=True)\n",
        "\n",
        "# Load model and scaler\n",
        "try:\n",
        "    svr = joblib.load('svr.joblib')\n",
        "    scaler = joblib.load('scaler.joblib')\n",
        "except Exception as e:\n",
        "    messagebox.showerror(\"Error\", f\"Error loading model or scaler: {e}\")\n",
        "    root.destroy()\n",
        "\n",
        "# Load data for prediction and SHAP calculation\n",
        "def load_data_and_plot():\n",
        "    try:\n",
        "        # Load data from Excel file\n",
        "        df = pd.read_excel(\"BFRC_STS.xlsx\")\n",
        "\n",
        "        # Assuming the data includes the relevant features and the target variable\n",
        "        X = df.iloc[:, :-1]  # Features (excluding target variable)\n",
        "        y = df.iloc[:, -1]  # Target variable (Concrete Compressive Strength)\n",
        "\n",
        "        # Standardize the features\n",
        "        X_scaled = scaler.transform(X)\n",
        "\n",
        "        # Calculate SHAP values\n",
        "        explainer = shap.Explainer(xgboost_model)\n",
        "        shap_values = explainer(X_scaled)\n",
        "\n",
        "        # Create a SHAP summary plot (Feature importance)\n",
        "        fig, ax = plt.subplots(figsize=(10, 6))\n",
        "        shap.summary_plot(shap_values, X_scaled, feature_names=featureName, plot_type=\"bar\", ax=ax)\n",
        "\n",
        "        # Display plot in Tkinter window\n",
        "        canvas = FigureCanvasTkAgg(fig, master=frame_canvas)\n",
        "        canvas.draw()\n",
        "        canvas.get_tk_widget().pack(fill=tk.BOTH, expand=True)\n",
        "\n",
        "    except Exception as e:\n",
        "        messagebox.showerror(\"Error\", f\"Error loading data or generating SHAP plot: {e}\")\n",
        "\n",
        "# Load data and plot SHAP feature importance\n",
        "load_data_and_plot()\n",
        "\n",
        "# Function to create labels on the canvas\n",
        "def create_label(text, font, fg, bg, x, y):\n",
        "    label = tk.Label(root, text=text, font=font, fg=fg, bg=bg)\n",
        "    frame_canvas.create_window(x, y, anchor=\"w\", window=label)  # Now canvas can use create_window\n",
        "    return label\n",
        "\n",
        "# GUI Titles\n",
        "label_inputdefinetitle2 = create_label('GUI model for Predicting Splitting Tensile Strength of BFRC',\n",
        "                                      ('Comic Sans MS', 18, 'bold', 'underline'), '#0000FF', '#FFFF00', 20, 30)\n",
        "label_inputdefinetitle3 = create_label('Developed by:  Abul KASHEM,Pobithra Das,Sourov Paul,Kaffayatullah Khan,Abdulrahman Fahad Al Fuhaid, Md Arifuzzaman',\n",
        "                                      ('Comic Sans MS', 14, 'bold'), '#C00000', '#FFFFFF', 20, 70)\n",
        "label_inputdefinetitle = create_label('Input Parameters',\n",
        "                                      ('Comic Sans MS', 16, 'bold'), '#000000', '#FFFFFF', 50, 120)\n",
        "\n",
        "# Parameter Definitions (left)\n",
        "param_labels = [\n",
        "    'X1: Cement (kg/m³)',\n",
        "    'X2: Fly Ash (kg/m³)',\n",
        "    'X3: Silica Fume (kg/m³)',\n",
        "    'X4: Coarse Aggregate (kg/m³)',\n",
        "    'X5: Fine Aggregate (kg/m³)',\n",
        "    'X6: Water (kg/m³)',\n",
        "    'X7: Water Reducing Agent (kg/m³)',\n",
        "    'X8: Fiber Content (%)',\n",
        "    'X9: Fiber Diameter (mm)',\n",
        "    'X10: Fiber Length (mm)'\n",
        "]\n",
        "\n",
        "# Draw parameter labels on left side\n",
        "for i, text in enumerate(param_labels, start=1):\n",
        "    create_label(text, ('Comic Sans MS', 14), '#00008B', '#FFFFFF', 50, 180 + i*40)\n",
        "\n",
        "# Input title (right)\n",
        "label_inputs = create_label('Inputs', ('Comic Sans MS', 16, 'bold'), '#000000', '#FFFFFF', 620, 180)\n",
        "\n",
        "# Input Fields (right)\n",
        "entry_fields = ['X1', 'X2', 'X3', 'X4', 'X5', 'X6', 'X7', 'X8','X9','X10']\n",
        "entries = {}\n",
        "for i, field in enumerate(entry_fields, start=1):\n",
        "    create_label(f'{field} = ', ('Comic Sans MS', 14, 'bold'), '#006600', '#FFFFFF', 650, 180 + i*40)\n",
        "    entry = tk.Entry(root, font=('Comic Sans MS', 14, 'bold'), bg='#F0F0F0',\n",
        "                     highlightbackground='#000000', highlightthickness=1, bd=0, width=20)\n",
        "    frame_canvas.create_window(830, 180 + i*40, window=entry)\n",
        "    entries[field] = entry\n",
        "\n",
        "# Output Section (placed much lower)\n",
        "label_output = create_label('Output:', ('Comic Sans MS', 16, 'bold'), '#000000', '#FFFFFF', 50, 650)\n",
        "label_result = create_label('Splitting Tensile strength (MPa)',\n",
        "                            ('Comic Sans MS', 16, 'bold'), '#C00000', '#FFFFFF', 200, 650)\n",
        "\n",
        "# Optional: Set proper window height\n",
        "root.geometry(\"1050x800\")  # Adjust based on your needs\n",
        "\n",
        "\n",
        "# Predict button command function\n",
        "def predict():\n",
        "    # Collect input data\n",
        "    input_values = []\n",
        "    for field in entry_fields:\n",
        "        try:\n",
        "            value = float(entries[field].get())\n",
        "            if value <= 0:\n",
        "                raise ValueError(\"Value must be positive.\")\n",
        "            input_values.append(value)\n",
        "        except ValueError as e:\n",
        "            messagebox.showerror(\"Error\", f\"Invalid input for {field}. Please enter a positive numeric value.\")\n",
        "            return\n",
        "\n",
        "    input_data = np.array([input_values])\n",
        "    try:\n",
        "        # Predict using the model\n",
        "        input_scaled = scaler.transform(input_data)\n",
        "        prediction = xgboost_model.predict(input_scaled)\n",
        "        label_result['text'] = f'STS = {prediction[0]:.4f} (MPa)'\n",
        "    except Exception as e:\n",
        "        messagebox.showerror(\"Error\", f\"An error occurred during prediction: {e}\")\n",
        "\n",
        "# Predict button\n",
        "predict_button = tk.Button(root, text='Calculate', font=('Comic Sans MS', 16), command=predict, fg='#FFFFFF', bg='dark blue')\n",
        "frame_canvas.create_window(750, 650, window=predict_button)\n",
        "\n",
        "# Run the Tkinter event loop\n",
        "root.mainloop()\n"
      ]
    },
    {
      "cell_type": "code",
      "execution_count": null,
      "metadata": {
        "id": "SFFQ0_fbvB8h"
      },
      "outputs": [],
      "source": []
    }
  ],
  "metadata": {
    "kernelspec": {
      "display_name": "Python [conda env:base] *",
      "language": "python",
      "name": "conda-base-py"
    },
    "language_info": {
      "codemirror_mode": {
        "name": "ipython",
        "version": 3
      },
      "file_extension": ".py",
      "mimetype": "text/x-python",
      "name": "python",
      "nbconvert_exporter": "python",
      "pygments_lexer": "ipython3",
      "version": "3.12.7"
    },
    "colab": {
      "provenance": []
    }
  },
  "nbformat": 4,
  "nbformat_minor": 0
}